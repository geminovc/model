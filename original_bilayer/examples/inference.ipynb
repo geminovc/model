{
 "cells": [
  {
   "cell_type": "code",
   "execution_count": null,
   "metadata": {},
   "outputs": [],
   "source": [
    "import sys\n",
    "sys.path.append('../')\n",
    "\n",
    "import glob\n",
    "import copy\n",
    "import numpy as np\n",
    "from PIL import Image\n",
    "from matplotlib import pyplot as plt\n",
    "\n",
    "from infer import InferenceWrapper"
   ]
  },
  {
   "cell_type": "markdown",
   "metadata": {},
   "source": [
    "### Load the model"
   ]
  },
  {
   "cell_type": "code",
   "execution_count": null,
   "metadata": {},
   "outputs": [],
   "source": [
    "args_dict = {\n",
    "    'project_dir': '../',\n",
    "    'init_experiment_dir': '../runs/vc2-hq_adrianb_paper_main',\n",
    "    'init_networks': 'identity_embedder, texture_generator, keypoints_embedder, inference_generator',\n",
    "    'init_which_epoch': '2225',\n",
    "    'num_gpus': 1,\n",
    "    'experiment_name': 'vc2-hq_adrianb_paper_enhancer',\n",
    "    'which_epoch': '1225',\n",
    "    'spn_networks': 'identity_embedder, texture_generator, keypoints_embedder, inference_generator, texture_enhancer',\n",
    "    'enh_apply_masks': False,\n",
    "    'inf_apply_masks': False}"
   ]
  },
  {
   "cell_type": "code",
   "execution_count": null,
   "metadata": {
    "scrolled": true
   },
   "outputs": [],
   "source": [
    "module = InferenceWrapper(args_dict)"
   ]
  },
  {
   "cell_type": "markdown",
   "metadata": {},
   "source": [
    "### Calculate poses, segmentation and do the inference"
   ]
  },
  {
   "cell_type": "code",
   "execution_count": null,
   "metadata": {
    "scrolled": true
   },
   "outputs": [],
   "source": [
    "input_data_dict = {\n",
    "    'source_imgs': np.asarray(Image.open('images/target.jpg')), # H x W x 3\n",
    "    'target_imgs': np.asarray(Image.open('images/source.jpg'))[None]} # B x H x W x # 3\n",
    "\n",
    "output_data_dict = module(input_data_dict)"
   ]
  },
  {
   "cell_type": "code",
   "execution_count": null,
   "metadata": {},
   "outputs": [],
   "source": [
    "def to_image(img_tensor, seg_tensor=None):\n",
    "    img_array = ((img_tensor.clamp(-1, 1).cpu().numpy() + 1) / 2).transpose(1, 2, 0) * 255\n",
    "    \n",
    "    if seg_tensor is not None:\n",
    "        seg_array = seg_tensor.cpu().numpy().transpose(1, 2, 0)\n",
    "        img_array = img_array * seg_array + 255. * (1 - seg_array)\n",
    "\n",
    "    return Image.fromarray(img_array.astype('uint8'))"
   ]
  },
  {
   "cell_type": "code",
   "execution_count": null,
   "metadata": {},
   "outputs": [],
   "source": [
    "source_img = to_image(output_data_dict['source_imgs'][0, 0])\n",
    "source_img"
   ]
  },
  {
   "cell_type": "code",
   "execution_count": null,
   "metadata": {},
   "outputs": [],
   "source": [
    "hf_texture = to_image(output_data_dict['pred_enh_tex_hf_rgbs'][0, 0])\n",
    "hf_texture"
   ]
  },
  {
   "cell_type": "code",
   "execution_count": null,
   "metadata": {},
   "outputs": [],
   "source": [
    "target_pose = to_image(output_data_dict['target_stickmen'][0, 0])\n",
    "target_pose"
   ]
  },
  {
   "cell_type": "code",
   "execution_count": null,
   "metadata": {},
   "outputs": [],
   "source": [
    "pred_img = to_image(output_data_dict['pred_enh_target_imgs'][0, 0], output_data_dict['pred_target_segs'][0, 0])\n",
    "pred_img"
   ]
  }
 ],
 "metadata": {
  "kernelspec": {
   "display_name": "Python 3",
   "language": "python",
   "name": "python3"
  },
  "language_info": {
   "codemirror_mode": {
    "name": "ipython",
    "version": 3
   },
   "file_extension": ".py",
   "mimetype": "text/x-python",
   "name": "python",
   "nbconvert_exporter": "python",
   "pygments_lexer": "ipython3",
   "version": "3.7.6"
  }
 },
 "nbformat": 4,
 "nbformat_minor": 2
}
