{
 "cells": [
  {
   "cell_type": "code",
   "execution_count": null,
   "metadata": {},
   "outputs": [],
   "source": [
    "import os\n",
    "import numpy as np\n",
    "import pickle"
   ]
  },
  {
   "cell_type": "code",
   "execution_count": 2,
   "metadata": {},
   "outputs": [],
   "source": [
    "person = \"ellen\"\n",
    "data_dir = '../frames/' + person\n",
    "lbr = '50Kb'\n",
    "hbr = '1000Kb'\n",
    "\n",
    "video_names = sorted(os.listdir(data_dir))\n",
    "\n",
    "unique_videos = set()\n",
    "\n",
    "for v in video_names:\n",
    "    unique_videos.add(v[:v.rfind('.mkv')])\n",
    "\n",
    "unique_videos = sorted(list(unique_videos))"
   ]
  },
  {
   "cell_type": "code",
   "execution_count": 3,
   "metadata": {},
   "outputs": [],
   "source": [
    "num_frames_videos = {}"
   ]
  },
  {
   "cell_type": "code",
   "execution_count": 4,
   "metadata": {},
   "outputs": [],
   "source": [
    "for v in video_names:\n",
    "    if v[:v.rfind('.mkv')] not in num_frames_videos.keys():\n",
    "        num_frames_videos[v[:v.rfind('.mkv')]] = 0\n",
    "    \n",
    "    vframes = os.listdir(os.path.join(data_dir, v, lbr))\n",
    "    num_frames_videos[v[:v.rfind('.mkv')]] += len(vframes)\n",
    "    "
   ]
  },
  {
   "cell_type": "code",
   "execution_count": null,
   "metadata": {},
   "outputs": [],
   "source": [
    "# select one of the videos which is the target video to train for\n",
    "selected_video = 'ellen_season1-2_Ellen_s_Coffee_Monologue-fA9iO849Tyo'"
   ]
  },
  {
   "cell_type": "code",
   "execution_count": 6,
   "metadata": {},
   "outputs": [],
   "source": [
    "lbr_frame_dict = {}\n",
    "hbr_frame_dict = {}"
   ]
  },
  {
   "cell_type": "code",
   "execution_count": 7,
   "metadata": {},
   "outputs": [
    {
     "name": "stdout",
     "output_type": "stream",
     "text": [
      "ellen_season1-2_Ellen_s_Coffee_Monologue-fA9iO849Tyo.mkv_00:00:06.606607-00:00:15.415415\n",
      "ellen_season1-2_Ellen_s_Coffee_Monologue-fA9iO849Tyo.mkv_00:00:15.548882-00:00:16.683350\n",
      "ellen_season1-2_Ellen_s_Coffee_Monologue-fA9iO849Tyo.mkv_00:00:16.816817-00:00:31.231231\n",
      "ellen_season1-2_Ellen_s_Coffee_Monologue-fA9iO849Tyo.mkv_00:00:31.364698-00:00:49.382716\n",
      "ellen_season1-2_Ellen_s_Coffee_Monologue-fA9iO849Tyo.mkv_00:00:49.649650-00:00:52.719386\n",
      "ellen_season1-2_Ellen_s_Coffee_Monologue-fA9iO849Tyo.mkv_00:00:54.521188-00:01:01.261261\n",
      "ellen_season1-2_Ellen_s_Coffee_Monologue-fA9iO849Tyo.mkv_00:01:01.394728-00:01:04.998332\n",
      "ellen_season1-2_Ellen_s_Coffee_Monologue-fA9iO849Tyo.mkv_00:01:05.131798-00:01:37.297297\n",
      "ellen_season1-2_Ellen_s_Coffee_Monologue-fA9iO849Tyo.mkv_00:01:37.430764-00:01:39.499499\n",
      "ellen_season1-2_Ellen_s_Coffee_Monologue-fA9iO849Tyo.mkv_00:01:40.500501-00:02:37.957958\n",
      "ellen_season1-2_Ellen_s_Coffee_Monologue-fA9iO849Tyo.mkv_00:02:43.630297-00:03:27.540874\n",
      "ellen_season1-2_Ellen_s_Coffee_Monologue-fA9iO849Tyo.mkv_00:03:27.741074-00:03:33.346680\n"
     ]
    }
   ],
   "source": [
    "for v in video_names:\n",
    "    if selected_video not in v:\n",
    "        continue\n",
    "    print(v)\n",
    "    lbr_files = sorted(os.listdir(os.path.join(data_dir, v, lbr)))\n",
    "    hbr_files = sorted(os.listdir(os.path.join(data_dir, v, hbr)))\n",
    "    lbr_frame_dict[v] = lbr_files\n",
    "    hbr_frame_dict[v] = hbr_files\n",
    "    "
   ]
  },
  {
   "cell_type": "code",
   "execution_count": 8,
   "metadata": {},
   "outputs": [
    {
     "name": "stdout",
     "output_type": "stream",
     "text": [
      "ellen_season1-2_Ellen_s_Coffee_Monologue-fA9iO849Tyo.mkv_00:00:06.606607-00:00:15.415415 266\n",
      "ellen_season1-2_Ellen_s_Coffee_Monologue-fA9iO849Tyo.mkv_00:00:15.548882-00:00:16.683350 34\n",
      "ellen_season1-2_Ellen_s_Coffee_Monologue-fA9iO849Tyo.mkv_00:00:16.816817-00:00:31.231231 433\n",
      "ellen_season1-2_Ellen_s_Coffee_Monologue-fA9iO849Tyo.mkv_00:00:31.364698-00:00:49.382716 541\n",
      "ellen_season1-2_Ellen_s_Coffee_Monologue-fA9iO849Tyo.mkv_00:00:49.649650-00:00:52.719386 94\n",
      "ellen_season1-2_Ellen_s_Coffee_Monologue-fA9iO849Tyo.mkv_00:00:54.521188-00:01:01.261261 202\n",
      "ellen_season1-2_Ellen_s_Coffee_Monologue-fA9iO849Tyo.mkv_00:01:01.394728-00:01:04.998332 110\n",
      "ellen_season1-2_Ellen_s_Coffee_Monologue-fA9iO849Tyo.mkv_00:01:05.131798-00:01:37.297297 965\n",
      "ellen_season1-2_Ellen_s_Coffee_Monologue-fA9iO849Tyo.mkv_00:01:37.430764-00:01:39.499499 63\n",
      "ellen_season1-2_Ellen_s_Coffee_Monologue-fA9iO849Tyo.mkv_00:01:40.500501-00:02:37.957958 1723\n",
      "ellen_season1-2_Ellen_s_Coffee_Monologue-fA9iO849Tyo.mkv_00:02:43.630297-00:03:27.540874 1318\n",
      "ellen_season1-2_Ellen_s_Coffee_Monologue-fA9iO849Tyo.mkv_00:03:27.741074-00:03:33.346680 170\n"
     ]
    }
   ],
   "source": [
    "for v in lbr_frame_dict.keys():\n",
    "    print(v, len(lbr_frame_dict[v]))"
   ]
  },
  {
   "cell_type": "code",
   "execution_count": 9,
   "metadata": {},
   "outputs": [],
   "source": [
    "test_videos = ['ellen_season1-2_Ellen_s_Coffee_Monologue-fA9iO849Tyo.mkv_00:02:43.630297-00:03:27.540874']"
   ]
  },
  {
   "cell_type": "code",
   "execution_count": 10,
   "metadata": {},
   "outputs": [
    {
     "name": "stdout",
     "output_type": "stream",
     "text": [
      "ellen_season1-2_Ellen_s_Coffee_Monologue-fA9iO849Tyo.mkv_00:00:06.606607-00:00:15.415415 266\n",
      "ellen_season1-2_Ellen_s_Coffee_Monologue-fA9iO849Tyo.mkv_00:00:15.548882-00:00:16.683350 34\n",
      "ellen_season1-2_Ellen_s_Coffee_Monologue-fA9iO849Tyo.mkv_00:00:16.816817-00:00:31.231231 433\n",
      "ellen_season1-2_Ellen_s_Coffee_Monologue-fA9iO849Tyo.mkv_00:00:31.364698-00:00:49.382716 541\n",
      "ellen_season1-2_Ellen_s_Coffee_Monologue-fA9iO849Tyo.mkv_00:00:49.649650-00:00:52.719386 94\n",
      "ellen_season1-2_Ellen_s_Coffee_Monologue-fA9iO849Tyo.mkv_00:00:54.521188-00:01:01.261261 202\n",
      "ellen_season1-2_Ellen_s_Coffee_Monologue-fA9iO849Tyo.mkv_00:01:01.394728-00:01:04.998332 110\n",
      "ellen_season1-2_Ellen_s_Coffee_Monologue-fA9iO849Tyo.mkv_00:01:05.131798-00:01:37.297297 965\n",
      "ellen_season1-2_Ellen_s_Coffee_Monologue-fA9iO849Tyo.mkv_00:01:37.430764-00:01:39.499499 63\n",
      "ellen_season1-2_Ellen_s_Coffee_Monologue-fA9iO849Tyo.mkv_00:01:40.500501-00:02:37.957958 1723\n",
      "ellen_season1-2_Ellen_s_Coffee_Monologue-fA9iO849Tyo.mkv_00:02:43.630297-00:03:27.540874 1318\n",
      "ellen_season1-2_Ellen_s_Coffee_Monologue-fA9iO849Tyo.mkv_00:03:27.741074-00:03:33.346680 170\n"
     ]
    }
   ],
   "source": [
    "train_lbr = []\n",
    "train_hbr = []\n",
    "train_gt = []\n",
    "test_lbr = []\n",
    "test_hbr = []\n",
    "test_gt = []\n",
    "prev_frame_offset = 5\n",
    "\n",
    "for v in lbr_frame_dict.keys():\n",
    "    print(v, len(lbr_frame_dict[v]))\n",
    "    lbr_files = lbr_frame_dict[v]\n",
    "    hbr_files = hbr_frame_dict[v]\n",
    "    \n",
    "    for i in range(len(lbr_files)):\n",
    "        lbr_files[i] = os.path.join(data_dir, v, lbr, lbr_files[i])\n",
    "        hbr_files[i] = os.path.join(data_dir, v, hbr, hbr_files[i])\n",
    "    if v not in test_videos:\n",
    "        train_lbr.extend(lbr_files[prev_frame_offset:])\n",
    "        train_hbr.extend(hbr_files[:-prev_frame_offset])\n",
    "        train_gt.extend(hbr_files[prev_frame_offset:])\n",
    "    else:\n",
    "        test_lbr.extend(lbr_files[prev_frame_offset:])\n",
    "        test_hbr.extend(hbr_files[:-prev_frame_offset])\n",
    "        test_gt.extend(hbr_files[prev_frame_offset:])"
   ]
  },
  {
   "cell_type": "code",
   "execution_count": 11,
   "metadata": {},
   "outputs": [
    {
     "name": "stdout",
     "output_type": "stream",
     "text": [
      "4546 4546\n",
      "1313 1313\n",
      "4546 4546\n"
     ]
    }
   ],
   "source": [
    "print(len(train_lbr), len(train_hbr))\n",
    "print(len(test_lbr), len(test_hbr))\n",
    "print(len(train_gt), len(train_gt))"
   ]
  },
  {
   "cell_type": "code",
   "execution_count": 13,
   "metadata": {},
   "outputs": [],
   "source": [
    "with open('train_lbr_' + selected_video + \"_\" + str(prev_frame_offset) + '.pkl', \"wb\") as handle:\n",
    "    pickle.dump(train_lbr, handle)\n",
    "    \n",
    "with open('train_hbr_' + selected_video + \"_\" + str(prev_frame_offset) + '.pkl', \"wb\") as handle:\n",
    "    pickle.dump(train_hbr, handle)\n",
    "\n",
    "with open('train_gt_' + selected_video + \"_\" + str(prev_frame_offset) + '.pkl', \"wb\") as handle:\n",
    "    pickle.dump(train_gt, handle)\n",
    "    \n",
    "\n",
    "    \n",
    "with open('test_lbr_'+ selected_video + \"_\" + str(prev_frame_offset) + '.pkl', \"wb\") as handle:\n",
    "    pickle.dump(test_lbr, handle)\n",
    "    \n",
    "with open('test_hbr_' + selected_video + \"_\" + str(prev_frame_offset) + '.pkl', \"wb\") as handle:\n",
    "    pickle.dump(test_hbr, handle)\n",
    "\n",
    "with open('test_gt_' + selected_video + \"_\" + str(prev_frame_offset) + '.pkl', \"wb\") as handle:\n",
    "    pickle.dump(test_gt, handle)"
   ]
  },
  {
   "cell_type": "code",
   "execution_count": 12,
   "metadata": {},
   "outputs": [
    {
     "data": {
      "text/plain": [
       "['../frames/ellen/ellen_season1-2_Ellen_s_Coffee_Monologue-fA9iO849Tyo.mkv_00:00:06.606607-00:00:15.415415/50Kb/frame_00006.png',\n",
       " '../frames/ellen/ellen_season1-2_Ellen_s_Coffee_Monologue-fA9iO849Tyo.mkv_00:00:06.606607-00:00:15.415415/50Kb/frame_00007.png',\n",
       " '../frames/ellen/ellen_season1-2_Ellen_s_Coffee_Monologue-fA9iO849Tyo.mkv_00:00:06.606607-00:00:15.415415/50Kb/frame_00008.png',\n",
       " '../frames/ellen/ellen_season1-2_Ellen_s_Coffee_Monologue-fA9iO849Tyo.mkv_00:00:06.606607-00:00:15.415415/50Kb/frame_00009.png',\n",
       " '../frames/ellen/ellen_season1-2_Ellen_s_Coffee_Monologue-fA9iO849Tyo.mkv_00:00:06.606607-00:00:15.415415/50Kb/frame_00010.png',\n",
       " '../frames/ellen/ellen_season1-2_Ellen_s_Coffee_Monologue-fA9iO849Tyo.mkv_00:00:06.606607-00:00:15.415415/50Kb/frame_00011.png',\n",
       " '../frames/ellen/ellen_season1-2_Ellen_s_Coffee_Monologue-fA9iO849Tyo.mkv_00:00:06.606607-00:00:15.415415/50Kb/frame_00012.png',\n",
       " '../frames/ellen/ellen_season1-2_Ellen_s_Coffee_Monologue-fA9iO849Tyo.mkv_00:00:06.606607-00:00:15.415415/50Kb/frame_00013.png',\n",
       " '../frames/ellen/ellen_season1-2_Ellen_s_Coffee_Monologue-fA9iO849Tyo.mkv_00:00:06.606607-00:00:15.415415/50Kb/frame_00014.png',\n",
       " '../frames/ellen/ellen_season1-2_Ellen_s_Coffee_Monologue-fA9iO849Tyo.mkv_00:00:06.606607-00:00:15.415415/50Kb/frame_00015.png']"
      ]
     },
     "execution_count": 12,
     "metadata": {},
     "output_type": "execute_result"
    }
   ],
   "source": [
    "train_lbr[:10]"
   ]
  },
  {
   "cell_type": "code",
   "execution_count": 40,
   "metadata": {},
   "outputs": [
    {
     "data": {
      "text/plain": [
       "['frame_00001.png',\n",
       " 'frame_00002.png',\n",
       " 'frame_00003.png',\n",
       " 'frame_00004.png',\n",
       " 'frame_00005.png',\n",
       " 'frame_00006.png',\n",
       " 'frame_00007.png',\n",
       " 'frame_00008.png',\n",
       " 'frame_00009.png',\n",
       " 'frame_00010.png']"
      ]
     },
     "execution_count": 40,
     "metadata": {},
     "output_type": "execute_result"
    }
   ],
   "source": [
    "train_hbr[:10]"
   ]
  },
  {
   "cell_type": "code",
   "execution_count": 6,
   "metadata": {},
   "outputs": [],
   "source": [
    "# train_videos = unique_videos[:int(0.9*len(unique_videos))]\n",
    "# test_videos = unique_videos[int(0.9*len(unique_videos)):]\n",
    "\n",
    "# len(train_files_lbr)\n",
    "\n",
    "train_files_lbr = []\n",
    "train_files_hbr = []\n",
    "\n",
    "\n",
    "\n",
    "for v in video_names:\n",
    "    print(v)\n",
    "    if v[:v.rfind('.mkv')] not in train_videos:\n",
    "        continue\n",
    "    lbr_files = sorted(os.listdir(os.path.join(data_dir, v, lbr)))\n",
    "    hbr_files = sorted(os.listdir(os.path.join(data_dir, v, hbr)))\n",
    "#     assert len(lbr_files) == len(hbr_files)\n",
    "#     for f in lbr_files:\n",
    "#         train_files_lbr.append(os.path.join(data_dir, v, lbr, f))\n",
    "#         train_files_hbr.append(os.path.join(data_dir, v, hbr, f))"
   ]
  },
  {
   "cell_type": "code",
   "execution_count": 5,
   "metadata": {},
   "outputs": [
    {
     "data": {
      "text/plain": [
       "['angelica',\n",
       " 'conan',\n",
       " 'almaram',\n",
       " 'chemistry',\n",
       " 'rock',\n",
       " 'shelly',\n",
       " 'oliver',\n",
       " 'seth',\n",
       " 'ellen']"
      ]
     },
     "execution_count": 5,
     "metadata": {},
     "output_type": "execute_result"
    }
   ],
   "source": [
    "os.listdir(data_dir)"
   ]
  },
  {
   "cell_type": "code",
   "execution_count": null,
   "metadata": {},
   "outputs": [],
   "source": [
    "os.listdir()"
   ]
  }
 ],
 "metadata": {
  "kernelspec": {
   "display_name": "Python 3",
   "language": "python",
   "name": "python3"
  },
  "language_info": {
   "codemirror_mode": {
    "name": "ipython",
    "version": 3
   },
   "file_extension": ".py",
   "mimetype": "text/x-python",
   "name": "python",
   "nbconvert_exporter": "python",
   "pygments_lexer": "ipython3",
   "version": "3.7.7"
  }
 },
 "nbformat": 4,
 "nbformat_minor": 4
}
